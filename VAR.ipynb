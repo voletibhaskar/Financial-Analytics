{
 "cells": [
  {
   "cell_type": "markdown",
   "metadata": {},
   "source": [
    "###Value at risk (VaR)\n",
    "Estimating the risk of a portfolio is very important to long-term capital growth. There are a lot of techniques to help manage risk, but here we'll be covering 'value at risk' (VaR).\n",
    "\n",
    "There are two main ways to calculate VaR:\n",
    "\n",
    "1. Using Monte Carlo simulation\n",
    "2. Using the Variance-Covariance method.\n",
    "\n",
    "In this post, we'll focus on using method 2 (variance-covariance).\n",
    "\n",
    "VaR provides an estimate of the maximum loss from a given portfolio over a period of time. You can calculate VaR at various confidence levels.\n",
    "\n",
    "For example, given a VaR of 250,000 at 95% confidence, there is a 95% chance that your portfolio will lose no more than 250,000 the following day.\n",
    "\n",
    "Note that the standard VaR calculation assumes the following:\n",
    "\n",
    "Normal distribution of returns - VaR assumes the returns of the portfolio are normally distributed. This is of course not realistic for most assets, but allows us to develop a baseline using a much more simplistic calculation. (Modifications can be made to VaR to account for different distributions, but here we'll focus on the standard VaR calculation).\n",
    "\n",
    "Standard market conditions - Like many financial instruments, VaR is best used for considering loss in standard markets, and is not well-suited for extreme/outlier events.\n",
    "\n",
    "Steps to calculate the VaR of a portfolio\n",
    "In order to calculate the VaR of your portfolio, you can follow the steps below:\n",
    "\n",
    "1. Calculate periodic returns of the stocks in your portfolio\n",
    "2. Create a covariance matrix based on the returns\n",
    "3. Calculate the portfolio mean and standard deviation \n",
    "(weighted based on investment levels of each stock in portolio)\n",
    "4. Calculate the inverse of the normal cumulative distribution (PPF) with a specified confidence interval standard deviation, and mean\n",
    "5. Estimate the value at risk (VaR) for the portfolio by subtracting the initial investment from the calculation in step 4"
   ]
  },
  {
   "cell_type": "code",
   "execution_count": 21,
   "metadata": {},
   "outputs": [],
   "source": [
    "import pandas as pd\n",
    "from pandas_datareader import data as pdr\n",
    "import fix_yahoo_finance as yf\n",
    "import numpy as np\n",
    "import datetime as dt\n",
    "import matplotlib.pyplot as plt\n",
    "    \n",
    "#Create our portfolio of equities\n",
    "tickers = ['AAPL','FB', 'C', 'DIS']\n",
    " \n",
    "#Set the investment weights (I arbitrarily picked for example)\n",
    "weights = np.array([.25, .3, .15, .3])\n",
    " \n",
    "#Set an initial investment level\n",
    "initial_investment = 1000000\n",
    " \n",
    "#Download closing prices\n",
    "data = pdr.get_data_yahoo(tickers, start=\"2021-01-01\", end=dt.date.today())['Close']\n",
    " \n",
    "#From the closing prices, calculate periodic returns\n",
    "returns = data.pct_change()"
   ]
  },
  {
   "cell_type": "code",
   "execution_count": 22,
   "metadata": {},
   "outputs": [
    {
     "name": "stdout",
     "output_type": "stream",
     "text": [
      "Symbols           AAPL          FB          C         DIS\n",
      "Date                                                     \n",
      "2021-01-04  129.410004         NaN  60.139999  177.679993\n",
      "2021-01-05  131.009995         NaN  61.700001  178.440002\n",
      "2021-01-06  126.599998         NaN  65.250000  179.119995\n",
      "2021-01-07  130.919998         NaN  66.019997  178.580002\n",
      "2021-01-08  132.050003         NaN  65.370003  178.690002\n",
      "...                ...         ...        ...         ...\n",
      "2022-09-08  154.460007  162.059998  49.900002  112.330002\n",
      "2022-09-09  157.369995  169.149994  50.669998  115.180000\n",
      "2022-09-12  163.429993  168.960007  50.869999  116.389999\n",
      "2022-09-13  153.839996  153.130005  49.000000  111.760002\n",
      "2022-09-14  155.228104  151.729996  48.471401  112.669998\n",
      "\n",
      "[428 rows x 4 columns]\n"
     ]
    }
   ],
   "source": [
    "print(data)"
   ]
  },
  {
   "cell_type": "markdown",
   "metadata": {},
   "source": [
    "<h4>2) Create a covariance matrix based on the returns </h4>\n"
   ]
  },
  {
   "cell_type": "code",
   "execution_count": 23,
   "metadata": {},
   "outputs": [
    {
     "data": {
      "text/html": [
       "<div>\n",
       "<style scoped>\n",
       "    .dataframe tbody tr th:only-of-type {\n",
       "        vertical-align: middle;\n",
       "    }\n",
       "\n",
       "    .dataframe tbody tr th {\n",
       "        vertical-align: top;\n",
       "    }\n",
       "\n",
       "    .dataframe thead th {\n",
       "        text-align: right;\n",
       "    }\n",
       "</style>\n",
       "<table border=\"1\" class=\"dataframe\">\n",
       "  <thead>\n",
       "    <tr style=\"text-align: right;\">\n",
       "      <th>Symbols</th>\n",
       "      <th>AAPL</th>\n",
       "      <th>FB</th>\n",
       "      <th>C</th>\n",
       "      <th>DIS</th>\n",
       "    </tr>\n",
       "    <tr>\n",
       "      <th>Symbols</th>\n",
       "      <th></th>\n",
       "      <th></th>\n",
       "      <th></th>\n",
       "      <th></th>\n",
       "    </tr>\n",
       "  </thead>\n",
       "  <tbody>\n",
       "    <tr>\n",
       "      <th>AAPL</th>\n",
       "      <td>0.000336</td>\n",
       "      <td>0.000409</td>\n",
       "      <td>0.000112</td>\n",
       "      <td>0.000149</td>\n",
       "    </tr>\n",
       "    <tr>\n",
       "      <th>FB</th>\n",
       "      <td>0.000409</td>\n",
       "      <td>0.001219</td>\n",
       "      <td>0.000276</td>\n",
       "      <td>0.000401</td>\n",
       "    </tr>\n",
       "    <tr>\n",
       "      <th>C</th>\n",
       "      <td>0.000112</td>\n",
       "      <td>0.000276</td>\n",
       "      <td>0.000353</td>\n",
       "      <td>0.000177</td>\n",
       "    </tr>\n",
       "    <tr>\n",
       "      <th>DIS</th>\n",
       "      <td>0.000149</td>\n",
       "      <td>0.000401</td>\n",
       "      <td>0.000177</td>\n",
       "      <td>0.000328</td>\n",
       "    </tr>\n",
       "  </tbody>\n",
       "</table>\n",
       "</div>"
      ],
      "text/plain": [
       "Symbols      AAPL        FB         C       DIS\n",
       "Symbols                                        \n",
       "AAPL     0.000336  0.000409  0.000112  0.000149\n",
       "FB       0.000409  0.001219  0.000276  0.000401\n",
       "C        0.000112  0.000276  0.000353  0.000177\n",
       "DIS      0.000149  0.000401  0.000177  0.000328"
      ]
     },
     "execution_count": 23,
     "metadata": {},
     "output_type": "execute_result"
    }
   ],
   "source": [
    "#Generate Var-Cov matrix\n",
    "cov_matrix = returns.cov()\n",
    "cov_matrix\n"
   ]
  },
  {
   "cell_type": "markdown",
   "metadata": {},
   "source": [
    "<h4>3) Calculate the portfolio mean and standard deviation</h4>"
   ]
  },
  {
   "cell_type": "code",
   "execution_count": 24,
   "metadata": {},
   "outputs": [],
   "source": [
    "#Calculate mean returns for each stock\n",
    "avg_rets = returns.mean()\n",
    " \n",
    "#Calculate mean returns for portfolio overall, \n",
    "#using mean, using dot product formula to \n",
    "#normalize against investment weights\n",
    "port_mean = avg_rets.dot(weights)\n",
    " \n",
    "#Calculate portfolio standard deviation\n",
    "port_stdev = np.sqrt(weights.T.dot(cov_matrix).dot(weights))\n",
    " \n",
    "#Calculate mean of given investment\n",
    "mean_investment = (1+port_mean) * initial_investment\n",
    "             \n",
    "#Calculate standard deviation of given investmnet\n",
    "stdev_investment = initial_investment * port_stdev"
   ]
  },
  {
   "cell_type": "markdown",
   "metadata": {},
   "source": [
    "<h4>4) Calculate the inverse of the normal cumulative distribution (PPF) with a specified confidence interval, standard deviation, and mean</h4>"
   ]
  },
  {
   "cell_type": "code",
   "execution_count": 25,
   "metadata": {},
   "outputs": [],
   "source": [
    "#Select our confidence interval (I'll choose 95% here)\n",
    "conf_level1 = 0.05\n",
    "\n",
    "#Using SciPy ppf method to generate values for the\n",
    "#inverse cumulative distribution function to a normal distribution\n",
    "#Plugging in the mean, standard deviation of our portfolio\n",
    "#as calculated above\n",
    "#https://docs.scipy.org/doc/scipy/reference/generated/scipy.stats.norm.html\n",
    "from scipy.stats import norm\n",
    "cutoff1 = norm.ppf(conf_level1, mean_investment, stdev_investment)\n"
   ]
  },
  {
   "cell_type": "markdown",
   "metadata": {},
   "source": [
    "5) Estimate the value at risk (VaR) for the portfolio by subtracting the initial investment from the calculation in step 4"
   ]
  },
  {
   "cell_type": "code",
   "execution_count": 26,
   "metadata": {},
   "outputs": [
    {
     "data": {
      "text/plain": [
       "32843.055439102114"
      ]
     },
     "execution_count": 26,
     "metadata": {},
     "output_type": "execute_result"
    }
   ],
   "source": [
    "#Finally, we can calculate the VaR at our confidence interval\n",
    "var_1d1 = initial_investment - cutoff1\n",
    "var_1d1"
   ]
  },
  {
   "cell_type": "markdown",
   "metadata": {},
   "source": [
    "<p>Here we are saying with 95% confidence that the loss of our portfolio will not exceed ~$32.8k over a one day period.</p>\n",
    "<h4>Value at risk over n-day time period</h4>\n",
    "<p>What if we wanted to calculate this over a larger window of time? Below we can easily do that by just taking our 1 day VaR and multiplying it by the <a href=\"https://www.investopedia.com/articles/04/101304.asp\" target=\"_blank\">square root of the time period</a>.</p>"
   ]
  },
  {
   "cell_type": "code",
   "execution_count": 27,
   "metadata": {},
   "outputs": [
    {
     "name": "stdout",
     "output_type": "stream",
     "text": [
      "1 day VaR @ 95% confidence: 32843.06\n",
      "2 day VaR @ 95% confidence: 46447.09\n",
      "3 day VaR @ 95% confidence: 56885.84\n",
      "4 day VaR @ 95% confidence: 65686.11\n",
      "5 day VaR @ 95% confidence: 73439.3\n",
      "6 day VaR @ 95% confidence: 80448.73\n",
      "7 day VaR @ 95% confidence: 86894.56\n",
      "8 day VaR @ 95% confidence: 92894.19\n",
      "9 day VaR @ 95% confidence: 98529.17\n",
      "10 day VaR @ 95% confidence: 103858.86\n",
      "11 day VaR @ 95% confidence: 108928.09\n",
      "12 day VaR @ 95% confidence: 113771.68\n",
      "13 day VaR @ 95% confidence: 118417.32\n",
      "14 day VaR @ 95% confidence: 122887.46\n",
      "15 day VaR @ 95% confidence: 127200.61\n"
     ]
    },
    {
     "data": {
      "text/plain": [
       "[<matplotlib.lines.Line2D at 0x25dc8732640>]"
      ]
     },
     "execution_count": 27,
     "metadata": {},
     "output_type": "execute_result"
    },
    {
     "data": {
      "image/png": "[encoded data removed]",
      "text/plain": [
       "<Figure size 432x288 with 1 Axes>"
      ]
     },
     "metadata": {
      "needs_background": "light"
     },
     "output_type": "display_data"
    }
   ],
   "source": [
    "# Calculate n Day VaR\n",
    "var_array = []\n",
    "num_days = int(15)\n",
    "for x in range(1, num_days+1):    \n",
    "    var_array.append(np.round(var_1d1 * np.sqrt(x),2))\n",
    "    print(str(x) + \" day VaR @ 95% confidence: \" + str(np.round(var_1d1 * np.sqrt(x),2)))\n",
    "\n",
    "# Build plot\n",
    "plt.xlabel(\"Day #\")\n",
    "plt.ylabel(\"Max portfolio loss (USD)\")\n",
    "plt.title(\"Max portfolio loss (VaR) over 15-day period\")\n",
    "plt.plot(var_array, \"r\")\n"
   ]
  },
  {
   "cell_type": "markdown",
   "metadata": {},
   "source": [
    "Checking distributions of our equities against normal distribution\n"
   ]
  },
  {
   "cell_type": "code",
   "execution_count": 28,
   "metadata": {},
   "outputs": [
    {
     "data": {
      "image/png": "[encoded data removed]",
      "text/plain": [
       "<Figure size 432x288 with 1 Axes>"
      ]
     },
     "metadata": {
      "needs_background": "light"
     },
     "output_type": "display_data"
    }
   ],
   "source": [
    "import matplotlib.mlab as mlab\n",
    "import matplotlib.pyplot as plt\n",
    "import scipy\n",
    "\n",
    "returns['AAPL'].hist(bins=40, density=True,histtype=\"stepfilled\",alpha=0.5)\n",
    "x = np.linspace(port_mean - 3*port_stdev, port_mean+3*port_stdev,100)\n",
    "plt.plot(x, scipy.stats.norm.pdf(x, port_mean, port_stdev), \"r\")\n",
    "plt.title(\"AAPL returns (binned) vs. normal distribution\")\n",
    "plt.show()"
   ]
  },
  {
   "cell_type": "code",
   "execution_count": 29,
   "metadata": {},
   "outputs": [
    {
     "data": {
      "image/png": "[encoded data removed]",
      "text/plain": [
       "<Figure size 432x288 with 1 Axes>"
      ]
     },
     "metadata": {
      "needs_background": "light"
     },
     "output_type": "display_data"
    }
   ],
   "source": [
    "returns['FB'].hist(bins=40, density=True,histtype=\"stepfilled\",alpha=0.5)\n",
    "x = np.linspace(port_mean - 3*port_stdev, port_mean+3*port_stdev,100)\n",
    "plt.plot(x, scipy.stats.norm.pdf(x, port_mean, port_stdev), \"r\")\n",
    "plt.title(\"FB returns (binned) vs. normal distribution\")\n",
    "plt.show()"
   ]
  },
  {
   "cell_type": "code",
   "execution_count": 30,
   "metadata": {},
   "outputs": [
    {
     "data": {
      "image/png": "[encoded data removed]",
      "text/plain": [
       "<Figure size 432x288 with 1 Axes>"
      ]
     },
     "metadata": {
      "needs_background": "light"
     },
     "output_type": "display_data"
    }
   ],
   "source": [
    "returns['C'].hist(bins=40, density=True,histtype=\"stepfilled\",alpha=0.5)\n",
    "x = np.linspace(port_mean - 3*port_stdev, port_mean+3*port_stdev,100)\n",
    "plt.plot(x, scipy.stats.norm.pdf(x, port_mean, port_stdev), \"r\")\n",
    "plt.title(\"C returns (binned) vs. normal distribution\")\n",
    "plt.show()\n"
   ]
  },
  {
   "cell_type": "code",
   "execution_count": 31,
   "metadata": {},
   "outputs": [
    {
     "data": {
      "image/png": "[encoded data removed]",
      "text/plain": [
       "<Figure size 432x288 with 1 Axes>"
      ]
     },
     "metadata": {
      "needs_background": "light"
     },
     "output_type": "display_data"
    }
   ],
   "source": [
    "returns['DIS'].hist(bins=40, density=True,histtype=\"stepfilled\",alpha=0.5)\n",
    "x = np.linspace(port_mean - 3*port_stdev, port_mean+3*port_stdev,100)\n",
    "plt.plot(x, scipy.stats.norm.pdf(x, port_mean, port_stdev), \"r\")\n",
    "plt.title(\"DIS returns (binned) vs. normal distribution\")\n",
    "plt.show()"
   ]
  },
  {
   "cell_type": "code",
   "execution_count": null,
   "metadata": {},
   "outputs": [],
   "source": []
  }
 ],
 "metadata": {
  "kernelspec": {
   "display_name": "Python 3.9.13 ('Testenv': venv)",
   "language": "python",
   "name": "python3"
  },
  "language_info": {
   "codemirror_mode": {
    "name": "ipython",
    "version": 3
   },
   "file_extension": ".py",
   "mimetype": "text/x-python",
   "name": "python",
   "nbconvert_exporter": "python",
   "pygments_lexer": "ipython3",
   "version": "3.9.13"
  },
  "orig_nbformat": 4,
  "vscode": {
   "interpreter": {
    "hash": "8e097c9f94de3e6c33999ddb4e2acd9ef10491f781f76d384ddfb915bd5cb0e9"
   }
  }
 },
 "nbformat": 4,
 "nbformat_minor": 2
}
