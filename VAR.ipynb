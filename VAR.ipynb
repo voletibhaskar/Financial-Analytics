{
 "cells": [
  {
   "cell_type": "markdown",
   "metadata": {},
   "source": [
    "###Value at risk (VaR)\n",
    "Estimating the risk of a portfolio is very important to long-term capital growth. There are a lot of techniques to help manage risk, but here we'll be covering 'value at risk' (VaR).\n",
    "\n",
    "There are two main ways to calculate VaR:\n",
    "\n",
    "1. Using Monte Carlo simulation\n",
    "2. Using the Variance-Covariance method.\n",
    "\n",
    "In this post, we'll focus on using method 2 (variance-covariance).\n",
    "\n",
    "VaR provides an estimate of the maximum loss from a given portfolio over a period of time. You can calculate VaR at various confidence levels.\n",
    "\n",
    "For example, given a VaR of 250,000 at 95% confidence, there is a 95% chance that your portfolio will lose no more than 250,000 the following day.\n",
    "\n",
    "Note that the standard VaR calculation assumes the following:\n",
    "\n",
    "Normal distribution of returns - VaR assumes the returns of the portfolio are normally distributed. This is of course not realistic for most assets, but allows us to develop a baseline using a much more simplistic calculation. (Modifications can be made to VaR to account for different distributions, but here we'll focus on the standard VaR calculation).\n",
    "\n",
    "Standard market conditions - Like many financial instruments, VaR is best used for considering loss in standard markets, and is not well-suited for extreme/outlier events.\n",
    "\n",
    "Steps to calculate the VaR of a portfolio\n",
    "In order to calculate the VaR of your portfolio, you can follow the steps below:\n",
    "\n",
    "1. Calculate periodic returns of the stocks in your portfolio\n",
    "2. Create a covariance matrix based on the returns\n",
    "3. Calculate the portfolio mean and standard deviation \n",
    "(weighted based on investment levels of each stock in portolio)\n",
    "4. Calculate the inverse of the normal cumulative distribution (PPF) with a specified confidence interval standard deviation, and mean\n",
    "5. Estimate the value at risk (VaR) for the portfolio by subtracting the initial investment from the calculation in step 4"
   ]
  },
  {
   "cell_type": "code",
   "execution_count": 2,
   "metadata": {},
   "outputs": [],
   "source": [
    "import pandas as pd\n",
    "from pandas_datareader import data as pdr\n",
    "import fix_yahoo_finance as yf\n",
    "import numpy as np\n",
    "import datetime as dt\n",
    "import matplotlib.pyplot as plt\n",
    "    \n",
    "#Create our portfolio of equities\n",
    "tickers = ['AAPL','FB', 'C', 'DIS']\n",
    " \n",
    "#Set the investment weights (I arbitrarily picked for example)\n",
    "weights = np.array([.25, .3, .15, .3])\n",
    " \n",
    "#Set an initial investment level\n",
    "initial_investment = 1000000\n",
    " \n",
    "#Download closing prices\n",
    "data = pdr.get_data_yahoo(tickers, start=\"2018-01-01\", end=dt.date.today())['Close']\n",
    " \n",
    "#From the closing prices, calculate periodic returns\n",
    "returns = data.pct_change()"
   ]
  },
  {
   "cell_type": "markdown",
   "metadata": {},
   "source": [
    "<h4>2) Create a covariance matrix based on the returns </h4>\n"
   ]
  },
  {
   "cell_type": "code",
   "execution_count": 3,
   "metadata": {},
   "outputs": [
    {
     "data": {
      "text/html": [
       "<div>\n",
       "<style scoped>\n",
       "    .dataframe tbody tr th:only-of-type {\n",
       "        vertical-align: middle;\n",
       "    }\n",
       "\n",
       "    .dataframe tbody tr th {\n",
       "        vertical-align: top;\n",
       "    }\n",
       "\n",
       "    .dataframe thead th {\n",
       "        text-align: right;\n",
       "    }\n",
       "</style>\n",
       "<table border=\"1\" class=\"dataframe\">\n",
       "  <thead>\n",
       "    <tr style=\"text-align: right;\">\n",
       "      <th>Symbols</th>\n",
       "      <th>AAPL</th>\n",
       "      <th>FB</th>\n",
       "      <th>C</th>\n",
       "      <th>DIS</th>\n",
       "    </tr>\n",
       "    <tr>\n",
       "      <th>Symbols</th>\n",
       "      <th></th>\n",
       "      <th></th>\n",
       "      <th></th>\n",
       "      <th></th>\n",
       "    </tr>\n",
       "  </thead>\n",
       "  <tbody>\n",
       "    <tr>\n",
       "      <th>AAPL</th>\n",
       "      <td>0.000434</td>\n",
       "      <td>0.000409</td>\n",
       "      <td>0.000244</td>\n",
       "      <td>0.000197</td>\n",
       "    </tr>\n",
       "    <tr>\n",
       "      <th>FB</th>\n",
       "      <td>0.000409</td>\n",
       "      <td>0.001219</td>\n",
       "      <td>0.000276</td>\n",
       "      <td>0.000401</td>\n",
       "    </tr>\n",
       "    <tr>\n",
       "      <th>C</th>\n",
       "      <td>0.000244</td>\n",
       "      <td>0.000276</td>\n",
       "      <td>0.000612</td>\n",
       "      <td>0.000304</td>\n",
       "    </tr>\n",
       "    <tr>\n",
       "      <th>DIS</th>\n",
       "      <td>0.000197</td>\n",
       "      <td>0.000401</td>\n",
       "      <td>0.000304</td>\n",
       "      <td>0.000402</td>\n",
       "    </tr>\n",
       "  </tbody>\n",
       "</table>\n",
       "</div>"
      ],
      "text/plain": [
       "Symbols      AAPL        FB         C       DIS\n",
       "Symbols                                        \n",
       "AAPL     0.000434  0.000409  0.000244  0.000197\n",
       "FB       0.000409  0.001219  0.000276  0.000401\n",
       "C        0.000244  0.000276  0.000612  0.000304\n",
       "DIS      0.000197  0.000401  0.000304  0.000402"
      ]
     },
     "execution_count": 3,
     "metadata": {},
     "output_type": "execute_result"
    }
   ],
   "source": [
    "#Generate Var-Cov matrix\n",
    "cov_matrix = returns.cov()\n",
    "cov_matrix\n"
   ]
  },
  {
   "cell_type": "markdown",
   "metadata": {},
   "source": [
    "<h4>3) Calculate the portfolio mean and standard deviation</h4>"
   ]
  },
  {
   "cell_type": "code",
   "execution_count": 4,
   "metadata": {},
   "outputs": [],
   "source": [
    "#Calculate mean returns for each stock\n",
    "avg_rets = returns.mean()\n",
    " \n",
    "#Calculate mean returns for portfolio overall, \n",
    "#using mean, using dot product formula to \n",
    "#normalize against investment weights\n",
    "port_mean = avg_rets.dot(weights)\n",
    " \n",
    "#Calculate portfolio standard deviation\n",
    "port_stdev = np.sqrt(weights.T.dot(cov_matrix).dot(weights))\n",
    " \n",
    "#Calculate mean of given investment\n",
    "mean_investment = (1+port_mean) * initial_investment\n",
    "             \n",
    "#Calculate standard deviation of given investmnet\n",
    "stdev_investment = initial_investment * port_stdev"
   ]
  },
  {
   "cell_type": "markdown",
   "metadata": {},
   "source": [
    "<h4>4) Calculate the inverse of the normal cumulative distribution (PPF) with a specified confidence interval, standard deviation, and mean</h4>"
   ]
  },
  {
   "cell_type": "code",
   "execution_count": 5,
   "metadata": {},
   "outputs": [],
   "source": [
    "#Select our confidence interval (I'll choose 95% here)\n",
    "conf_level1 = 0.05\n",
    "\n",
    "#Using SciPy ppf method to generate values for the\n",
    "#inverse cumulative distribution function to a normal distribution\n",
    "#Plugging in the mean, standard deviation of our portfolio\n",
    "#as calculated above\n",
    "#https://docs.scipy.org/doc/scipy/reference/generated/scipy.stats.norm.html\n",
    "from scipy.stats import norm\n",
    "cutoff1 = norm.ppf(conf_level1, mean_investment, stdev_investment)\n"
   ]
  },
  {
   "cell_type": "markdown",
   "metadata": {},
   "source": [
    "5) Estimate the value at risk (VaR) for the portfolio by subtracting the initial investment from the calculation in step 4"
   ]
  },
  {
   "cell_type": "code",
   "execution_count": 6,
   "metadata": {},
   "outputs": [
    {
     "data": {
      "text/plain": [
       "34246.947806535056"
      ]
     },
     "execution_count": 6,
     "metadata": {},
     "output_type": "execute_result"
    }
   ],
   "source": [
    "#Finally, we can calculate the VaR at our confidence interval\n",
    "var_1d1 = initial_investment - cutoff1\n",
    "var_1d1"
   ]
  },
  {
   "cell_type": "markdown",
   "metadata": {},
   "source": [
    "<p>Here we are saying with 95% confidence that the loss of our portfolio will not exceed ~$34.3k over a one day period.</p>\n",
    "<h4>Value at risk over n-day time period</h4>\n",
    "<p>What if we wanted to calculate this over a larger window of time? Below we can easily do that by just taking our 1 day VaR and multiplying it by the <a href=\"https://www.investopedia.com/articles/04/101304.asp\" target=\"_blank\">square root of the time period</a>.</p>"
   ]
  },
  {
   "cell_type": "code",
   "execution_count": 7,
   "metadata": {},
   "outputs": [
    {
     "name": "stdout",
     "output_type": "stream",
     "text": [
      "1 day VaR @ 95% confidence: 34246.95\n",
      "2 day VaR @ 95% confidence: 48432.5\n",
      "3 day VaR @ 95% confidence: 59317.45\n",
      "4 day VaR @ 95% confidence: 68493.9\n",
      "5 day VaR @ 95% confidence: 76578.5\n",
      "6 day VaR @ 95% confidence: 83887.55\n",
      "7 day VaR @ 95% confidence: 90608.91\n",
      "8 day VaR @ 95% confidence: 96865.0\n",
      "9 day VaR @ 95% confidence: 102740.84\n",
      "10 day VaR @ 95% confidence: 108298.36\n",
      "11 day VaR @ 95% confidence: 113584.28\n",
      "12 day VaR @ 95% confidence: 118634.91\n",
      "13 day VaR @ 95% confidence: 123479.13\n",
      "14 day VaR @ 95% confidence: 128140.35\n",
      "15 day VaR @ 95% confidence: 132637.86\n"
     ]
    },
    {
     "data": {
      "text/plain": [
       "[<matplotlib.lines.Line2D at 0x25dc33667f0>]"
      ]
     },
     "execution_count": 7,
     "metadata": {},
     "output_type": "execute_result"
    },
    {
     "data": {
      "image/png": "[encoded data removed]",
      "text/plain": [
       "<Figure size 432x288 with 1 Axes>"
      ]
     },
     "metadata": {
      "needs_background": "light"
     },
     "output_type": "display_data"
    }
   ],
   "source": [
    "# Calculate n Day VaR\n",
    "var_array = []\n",
    "num_days = int(15)\n",
    "for x in range(1, num_days+1):    \n",
    "    var_array.append(np.round(var_1d1 * np.sqrt(x),2))\n",
    "    print(str(x) + \" day VaR @ 95% confidence: \" + str(np.round(var_1d1 * np.sqrt(x),2)))\n",
    "\n",
    "# Build plot\n",
    "plt.xlabel(\"Day #\")\n",
    "plt.ylabel(\"Max portfolio loss (USD)\")\n",
    "plt.title(\"Max portfolio loss (VaR) over 15-day period\")\n",
    "plt.plot(var_array, \"r\")\n"
   ]
  },
  {
   "cell_type": "markdown",
   "metadata": {},
   "source": [
    "Checking distributions of our equities against normal distribution\n"
   ]
  },
  {
   "cell_type": "code",
   "execution_count": 16,
   "metadata": {},
   "outputs": [
    {
     "data": {
      "image/png": "[encoded data removed]",
      "text/plain": [
       "<Figure size 432x288 with 1 Axes>"
      ]
     },
     "metadata": {
      "needs_background": "light"
     },
     "output_type": "display_data"
    }
   ],
   "source": [
    "import matplotlib.mlab as mlab\n",
    "import matplotlib.pyplot as plt\n",
    "import scipy\n",
    "\n",
    "returns['AAPL'].hist(bins=40, density=True,histtype=\"stepfilled\",alpha=0.5)\n",
    "x = np.linspace(port_mean - 3*port_stdev, port_mean+3*port_stdev,100)\n",
    "plt.plot(x, scipy.stats.norm.pdf(x, port_mean, port_stdev), \"r\")\n",
    "plt.title(\"AAPL returns (binned) vs. normal distribution\")\n",
    "plt.show()"
   ]
  },
  {
   "cell_type": "code",
   "execution_count": 15,
   "metadata": {},
   "outputs": [
    {
     "data": {
      "image/png": "[encoded data removed]",
      "text/plain": [
       "<Figure size 432x288 with 1 Axes>"
      ]
     },
     "metadata": {
      "needs_background": "light"
     },
     "output_type": "display_data"
    }
   ],
   "source": [
    "returns['FB'].hist(bins=40, density=True,histtype=\"stepfilled\",alpha=0.5)\n",
    "x = np.linspace(port_mean - 3*port_stdev, port_mean+3*port_stdev,100)\n",
    "plt.plot(x, scipy.stats.norm.pdf(x, port_mean, port_stdev), \"r\")\n",
    "plt.title(\"FB returns (binned) vs. normal distribution\")\n",
    "plt.show()"
   ]
  },
  {
   "cell_type": "code",
   "execution_count": 17,
   "metadata": {},
   "outputs": [
    {
     "data": {
      "image/png": "[encoded data removed]",
      "text/plain": [
       "<Figure size 432x288 with 1 Axes>"
      ]
     },
     "metadata": {
      "needs_background": "light"
     },
     "output_type": "display_data"
    }
   ],
   "source": [
    "returns['C'].hist(bins=40, density=True,histtype=\"stepfilled\",alpha=0.5)\n",
    "x = np.linspace(port_mean - 3*port_stdev, port_mean+3*port_stdev,100)\n",
    "plt.plot(x, scipy.stats.norm.pdf(x, port_mean, port_stdev), \"r\")\n",
    "plt.title(\"C returns (binned) vs. normal distribution\")\n",
    "plt.show()\n"
   ]
  },
  {
   "cell_type": "code",
   "execution_count": 18,
   "metadata": {},
   "outputs": [
    {
     "data": {
      "image/png": "[encoded data removed]",
      "text/plain": [
       "<Figure size 432x288 with 1 Axes>"
      ]
     },
     "metadata": {
      "needs_background": "light"
     },
     "output_type": "display_data"
    }
   ],
   "source": [
    "returns['DIS'].hist(bins=40, density=True,histtype=\"stepfilled\",alpha=0.5)\n",
    "x = np.linspace(port_mean - 3*port_stdev, port_mean+3*port_stdev,100)\n",
    "plt.plot(x, scipy.stats.norm.pdf(x, port_mean, port_stdev), \"r\")\n",
    "plt.title(\"DIS returns (binned) vs. normal distribution\")\n",
    "plt.show()"
   ]
  },
  {
   "cell_type": "code",
   "execution_count": null,
   "metadata": {},
   "outputs": [],
   "source": []
  }
 ],
 "metadata": {
  "kernelspec": {
   "display_name": "Python 3.9.13 ('Testenv': venv)",
   "language": "python",
   "name": "python3"
  },
  "language_info": {
   "codemirror_mode": {
    "name": "ipython",
    "version": 3
   },
   "file_extension": ".py",
   "mimetype": "text/x-python",
   "name": "python",
   "nbconvert_exporter": "python",
   "pygments_lexer": "ipython3",
   "version": "3.9.13"
  },
  "orig_nbformat": 4,
  "vscode": {
   "interpreter": {
    "hash": "8e097c9f94de3e6c33999ddb4e2acd9ef10491f781f76d384ddfb915bd5cb0e9"
   }
  }
 },
 "nbformat": 4,
 "nbformat_minor": 2
}
